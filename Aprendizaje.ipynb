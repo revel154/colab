{
  "nbformat": 4,
  "nbformat_minor": 0,
  "metadata": {
    "colab": {
      "provenance": [],
      "toc_visible": true,
      "authorship_tag": "ABX9TyNkPt7bwdCrndPHC8cDBP1P",
      "include_colab_link": true
    },
    "kernelspec": {
      "name": "python3",
      "display_name": "Python 3"
    },
    "language_info": {
      "name": "python"
    }
  },
  "cells": [
    {
      "cell_type": "markdown",
      "metadata": {
        "id": "view-in-github",
        "colab_type": "text"
      },
      "source": [
        "<a href=\"https://colab.research.google.com/github/revel154/colab/blob/main/Aprendizaje.ipynb\" target=\"_parent\"><img src=\"https://colab.research.google.com/assets/colab-badge.svg\" alt=\"Open In Colab\"/></a>"
      ]
    },
    {
      "cell_type": "markdown",
      "source": [
        "#Funciones"
      ],
      "metadata": {
        "id": "L75Hpj2h54E_"
      }
    },
    {
      "cell_type": "code",
      "source": [
        "def hola ():\n",
        "  print(\"Karzed\")\n",
        "\n",
        "hola()\n"
      ],
      "metadata": {
        "colab": {
          "base_uri": "https://localhost:8080/"
        },
        "id": "2HufrAhG5_ig",
        "outputId": "e2fd5cf2-6ed2-4069-d52c-88ae483572d2"
      },
      "execution_count": 4,
      "outputs": [
        {
          "output_type": "stream",
          "name": "stdout",
          "text": [
            "Karzed\n"
          ]
        }
      ]
    },
    {
      "cell_type": "markdown",
      "source": [
        "##*parametros y argumentos*\n"
      ],
      "metadata": {
        "id": "og-pL48_cLQQ"
      }
    },
    {
      "cell_type": "code",
      "source": [
        "def hola (nombre,apellido):\n",
        "  print(nombre)\n",
        "  print(apellido)\n",
        "\n",
        "hola(\"Karzed\", \"Bienvenido\")"
      ],
      "metadata": {
        "colab": {
          "base_uri": "https://localhost:8080/"
        },
        "id": "8_GvS4DZcPJe",
        "outputId": "8cc4d84b-2177-46bd-f57b-7b2b051502f1"
      },
      "execution_count": 8,
      "outputs": [
        {
          "output_type": "stream",
          "name": "stdout",
          "text": [
            "Karzed\n",
            "Bienvenido\n"
          ]
        }
      ]
    },
    {
      "cell_type": "markdown",
      "source": [
        "## argumentos opcionales"
      ],
      "metadata": {
        "id": "utgpbZqrcnAG"
      }
    },
    {
      "cell_type": "code",
      "source": [
        "def hola (nombre,apellido= \"Revel\"):\n",
        "  print(\"Hola mundo\")\n",
        "  print(f\"Bienvenido {nombre} {apellido}\")\n",
        "\n",
        "hola(\"Karzed\")"
      ],
      "metadata": {
        "colab": {
          "base_uri": "https://localhost:8080/"
        },
        "id": "U1YuN-mEcrZg",
        "outputId": "52681929-e2f7-4a21-b286-4299f9a87229"
      },
      "execution_count": 23,
      "outputs": [
        {
          "output_type": "stream",
          "name": "stdout",
          "text": [
            "Hola mundo\n",
            "Bienvenido Karzed Revel\n"
          ]
        }
      ]
    },
    {
      "cell_type": "markdown",
      "source": [
        "## argumentos nombrados"
      ],
      "metadata": {
        "id": "JW1R3JFHi3fp"
      }
    },
    {
      "cell_type": "code",
      "source": [
        "def hola (nombre,apellido):\n",
        "  print(\"Hola mundo\")\n",
        "  print(f\"Bienvenido {nombre} {apellido}\")\n",
        "\n",
        "hola(apellido=\"Revel\", nombre=\"15454\")"
      ],
      "metadata": {
        "colab": {
          "base_uri": "https://localhost:8080/"
        },
        "id": "KNNMLj31i8RY",
        "outputId": "342f4653-2db1-47e5-96f6-6e59a5d7d035"
      },
      "execution_count": 24,
      "outputs": [
        {
          "output_type": "stream",
          "name": "stdout",
          "text": [
            "Hola mundo\n",
            "Bienvenido 15454 Revel\n"
          ]
        }
      ]
    },
    {
      "cell_type": "markdown",
      "source": [
        "## xargs"
      ],
      "metadata": {
        "id": "FsvgVfelklIB"
      }
    },
    {
      "cell_type": "code",
      "source": [
        "def suma (*numeros):\n",
        "  resultado=0\n",
        "  for numero in numeros:\n",
        "    resultado += numero\n",
        "  print(resultado)\n",
        "\n",
        "\n",
        "suma(5,8)\n",
        "suma(1,5,9)\n",
        "suma(1,5)\n",
        "suma(1,5,54,87,98)"
      ],
      "metadata": {
        "colab": {
          "base_uri": "https://localhost:8080/"
        },
        "id": "26MgPz1ekxKo",
        "outputId": "0a845222-1dbe-4d85-c725-ae18aa0ef2db"
      },
      "execution_count": 28,
      "outputs": [
        {
          "output_type": "stream",
          "name": "stdout",
          "text": [
            "13\n",
            "15\n",
            "6\n",
            "245\n"
          ]
        }
      ]
    }
  ]
}